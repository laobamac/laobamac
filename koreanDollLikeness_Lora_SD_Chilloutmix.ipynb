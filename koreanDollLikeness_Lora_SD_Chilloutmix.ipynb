{
  "cells": [
    {
      "cell_type": "markdown",
      "metadata": {
        "id": "view-in-github",
        "colab_type": "text"
      },
      "source": [
        "<a href=\"https://colab.research.google.com/github/laobamac/laobamac/blob/main/koreanDollLikeness_Lora_SD_Chilloutmix.ipynb\" target=\"_parent\"><img src=\"https://colab.research.google.com/assets/colab-badge.svg\" alt=\"Open In Colab\"/></a>"
      ]
    },
    {
      "cell_type": "markdown",
      "metadata": {
        "id": "iRft__pHa16H"
      },
      "source": [
        "# Stable-diffusion-webui with Chilloumix-KoreanDollLikeness\n",
        "基于Colab的StableStable-diffusion在线绘图，官方前端+魔改后端\n",
        "--------------------------------------------------------\n",
        "\n",
        "# 它可以做什么？\n",
        "<li>自定义模型</li>\n",
        "<li>自定义Lora</li>\n",
        "-------------------------------------------------\n",
        "\n",
        "# 版权\n",
        "本Colab作者：laobamac</br>\n",
        "BiliBili：[老八带你玩黑果](https://space.bilibili.com/504306154?spm_id_from=333.1007.0.0)\n",
        "\n",
        "## 仅供学习参考，禁止用于商业用途，未经允许禁止转载，此Colab为测试学习使用，禁止用于违法用途，一切后果与作者，谷歌无关。\n",
        "</br>\n",
        "\n",
        "# 鸣谢\n",
        "感谢[CivitAI](https://civitai.com/)发布的ChillouMix模型</br>\n",
        "感谢[deathstep532](https://civitai.com/api/download/models/17084)发布的KoreanStyle2.5D模型</br>\n",
        "感谢[nsfwhappy](https://civitai.com/user/nsfwhappy)发布的KoreanDollLikeness模型Lora</br>\n",
        "感谢[AUTOMATIC1111](https://github.com/AUTOMATIC1111/stable-diffusion-webui/commits?author=AUTOMATIC1111)的stable-diffusion-webui项目</br>\n",
        "感谢4chan的魔改版Naifu提供灵感</br>\n",
        "感谢[camenduru](https://github.com/camenduru)的stable-diffusion-webui项目</br>\n",
        "感谢[Nolan Aatama](https://github.com/nolanaatama)的sd-webui-tunnels隧道\n"
      ]
    },
    {
      "cell_type": "markdown",
      "metadata": {
        "id": "bsiZpfkU7S77"
      },
      "source": [
        "# 安装stable-diffusion-webui"
      ]
    },
    {
      "cell_type": "code",
      "execution_count": null,
      "metadata": {
        "id": "sBbcB4vwj_jm"
      },
      "outputs": [],
      "source": [
        "!wget https://blog.laobamac.fun/lorasetup.sh && bash lorasetup.sh\n",
        "import shutil\n",
        "shutil.rmtree('/content/stable-diffusion-webui/embeddings')\n",
        "!wget https://blog.laobamac.fun/lorasetup3.sh && bash lorasetup3.sh"
      ]
    },
    {
      "cell_type": "markdown",
      "metadata": {
        "id": "YnmYTQs7aWsO"
      },
      "source": [
        "# 出现地址后结束第一个任务"
      ]
    },
    {
      "cell_type": "markdown",
      "metadata": {
        "id": "qxhOCPrg7WXm"
      },
      "source": [
        "# 下载lora KoreanDollLikeness并启动UI"
      ]
    },
    {
      "cell_type": "code",
      "execution_count": null,
      "metadata": {
        "colab": {
          "background_save": true
        },
        "id": "pZVeLcbD70Lf"
      },
      "outputs": [],
      "source": [
        "!wget https://blog.laobamac.fun/lorasetup4.sh && bash lorasetup4.sh"
      ]
    },
    {
      "cell_type": "markdown",
      "metadata": {
        "id": "qVrCb2IzUmou"
      },
      "source": [
        "# 仅启动UI"
      ]
    },
    {
      "cell_type": "code",
      "execution_count": null,
      "metadata": {
        "id": "BLC1CyjzUqDe"
      },
      "outputs": [],
      "source": [
        "!wget https://blog.laobamac.fun/lorasetup2.sh && bash lorasetup2.sh"
      ]
    }
  ],
  "metadata": {
    "accelerator": "GPU",
    "colab": {
      "provenance": [],
      "include_colab_link": true
    },
    "gpuClass": "standard",
    "kernelspec": {
      "display_name": "Python 3",
      "name": "python3"
    },
    "language_info": {
      "name": "python"
    }
  },
  "nbformat": 4,
  "nbformat_minor": 0
}